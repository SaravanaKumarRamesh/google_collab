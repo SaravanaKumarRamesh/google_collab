{
  "nbformat": 4,
  "nbformat_minor": 0,
  "metadata": {
    "colab": {
      "provenance": [],
      "authorship_tag": "ABX9TyNnRPcec/7NUEVCSTXXlSKg",
      "include_colab_link": true
    },
    "kernelspec": {
      "name": "python3",
      "display_name": "Python 3"
    },
    "language_info": {
      "name": "python"
    }
  },
  "cells": [
    {
      "cell_type": "markdown",
      "metadata": {
        "id": "view-in-github",
        "colab_type": "text"
      },
      "source": [
        "<a href=\"https://colab.research.google.com/github/SaravanaKumarRamesh/google_collab/blob/test_branch/google_test.ipynb\" target=\"_parent\"><img src=\"https://colab.research.google.com/assets/colab-badge.svg\" alt=\"Open In Colab\"/></a>"
      ]
    },
    {
      "cell_type": "code",
      "source": [
        "from pyspark.sql import SparkSession\n",
        "spark = SparkSession.builder.appName(\"Test_app\").getOrCreate()\n"
      ],
      "metadata": {
        "id": "YbaNcyYEvwJN"
      },
      "execution_count": null,
      "outputs": []
    },
    {
      "cell_type": "code",
      "source": [
        "df = spark.createDataFrame([[1, 2, 3], [4, 5, 6]], [\"a\", \"b\", \"c\"])"
      ],
      "metadata": {
        "id": "I4FuvJA5vzuf"
      },
      "execution_count": null,
      "outputs": []
    },
    {
      "cell_type": "code",
      "source": [
        "df"
      ],
      "metadata": {
        "colab": {
          "base_uri": "https://localhost:8080/"
        },
        "id": "qKaXzFpayq_s",
        "outputId": "77c480b9-54fa-44e0-d659-2c4d9ceebd5f"
      },
      "execution_count": null,
      "outputs": [
        {
          "output_type": "execute_result",
          "data": {
            "text/plain": [
              "DataFrame[a: bigint, b: bigint, c: bigint]"
            ]
          },
          "metadata": {},
          "execution_count": 18
        }
      ]
    },
    {
      "source": [
        "df.createOrReplaceTempView(\"people\")  # \"people\" is the view name"
      ],
      "cell_type": "code",
      "metadata": {
        "id": "CM8JGOF0w2su"
      },
      "execution_count": null,
      "outputs": []
    },
    {
      "cell_type": "code",
      "source": [
        "spark.sql(\"select * from people\").show()"
      ],
      "metadata": {
        "colab": {
          "base_uri": "https://localhost:8080/"
        },
        "id": "NUSRLPwDwR6B",
        "outputId": "4a6c1c9c-65ec-4e87-95c7-0a73dc23404b"
      },
      "execution_count": null,
      "outputs": [
        {
          "output_type": "stream",
          "name": "stdout",
          "text": [
            "+---+---+---+\n",
            "|  a|  b|  c|\n",
            "+---+---+---+\n",
            "|  1|  2|  3|\n",
            "|  4|  5|  6|\n",
            "+---+---+---+\n",
            "\n"
          ]
        }
      ]
    },
    {
      "cell_type": "code",
      "source": [
        "spark.sql(\"select *,case when a = 1 then 'yes' else 'no' end as new_col from people\").show()"
      ],
      "metadata": {
        "colab": {
          "base_uri": "https://localhost:8080/"
        },
        "id": "nu6pU4KoxB6K",
        "outputId": "451d56a2-768e-486b-9b57-1e365863070e"
      },
      "execution_count": null,
      "outputs": [
        {
          "output_type": "stream",
          "name": "stdout",
          "text": [
            "+---+---+---+-------+\n",
            "|  a|  b|  c|new_col|\n",
            "+---+---+---+-------+\n",
            "|  1|  2|  3|    yes|\n",
            "|  4|  5|  6|     no|\n",
            "+---+---+---+-------+\n",
            "\n"
          ]
        }
      ]
    },
    {
      "cell_type": "code",
      "source": [
        "import pyspark.pandas as ps"
      ],
      "metadata": {
        "id": "_ieD5cJlzz3n"
      },
      "execution_count": null,
      "outputs": []
    },
    {
      "cell_type": "code",
      "source": [
        "test = 1\n",
        "if test == 1:\n",
        "    print(\"yes\")\n",
        "else:\n",
        "    print(\"no\")"
      ],
      "metadata": {
        "id": "IFIaGwqz0KRD",
        "outputId": "01aa7e55-2726-4f50-a72a-4226e100466c",
        "colab": {
          "base_uri": "https://localhost:8080/"
        }
      },
      "execution_count": 4,
      "outputs": [
        {
          "output_type": "stream",
          "name": "stdout",
          "text": [
            "yes\n"
          ]
        }
      ]
    },
    {
      "cell_type": "code",
      "source": [
        "a"
      ],
      "metadata": {
        "id": "3djdSNOQY2o2",
        "outputId": "4d0b4211-23b0-45bf-d6bf-e81c1fddc3b9",
        "colab": {
          "base_uri": "https://localhost:8080/"
        }
      },
      "execution_count": 2,
      "outputs": [
        {
          "output_type": "execute_result",
          "data": {
            "text/plain": [
              "list"
            ]
          },
          "metadata": {},
          "execution_count": 2
        }
      ]
    },
    {
      "cell_type": "code",
      "source": [],
      "metadata": {
        "id": "KpiqB22kY9xk"
      },
      "execution_count": null,
      "outputs": []
    }
  ]
}